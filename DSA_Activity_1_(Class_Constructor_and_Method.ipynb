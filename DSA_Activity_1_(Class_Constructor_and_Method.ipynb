{
  "nbformat": 4,
  "nbformat_minor": 0,
  "metadata": {
    "colab": {
      "provenance": [],
      "authorship_tag": "ABX9TyNTVEMob2dWlDR22YhrN2aH",
      "include_colab_link": true
    },
    "kernelspec": {
      "name": "python3",
      "display_name": "Python 3"
    },
    "language_info": {
      "name": "python"
    }
  },
  "cells": [
    {
      "cell_type": "markdown",
      "metadata": {
        "id": "view-in-github",
        "colab_type": "text"
      },
      "source": [
        "<a href=\"https://colab.research.google.com/github/LeojTandayu/DSA-CPE-010-CPE21S4/blob/main/DSA_Activity_1_(Class_Constructor_and_Method.ipynb\" target=\"_parent\"><img src=\"https://colab.research.google.com/assets/colab-badge.svg\" alt=\"Open In Colab\"/></a>"
      ]
    },
    {
      "cell_type": "markdown",
      "source": [
        "# **Exercise 1 (Class Constructior and Method)**"
      ],
      "metadata": {
        "id": "hislVHUon_sv"
      }
    },
    {
      "cell_type": "markdown",
      "source": [
        "1. Develop a python program that computes the area of the rectangle shape\n",
        "2. Use rectangle () as a class ane.\n",
        "3. Use attributes length and width\n",
        "4. Calculate the Area() of the rectangle.\n",
        "5. Display the computed Area() of the rectangle"
      ],
      "metadata": {
        "id": "jPwcCwNYnAbA"
      }
    },
    {
      "cell_type": "code",
      "execution_count": 18,
      "metadata": {
        "colab": {
          "base_uri": "https://localhost:8080/"
        },
        "id": "sv0p4xwOmdnv",
        "outputId": "bb058757-33d4-4e72-8c88-3f840707cb53"
      },
      "outputs": [
        {
          "output_type": "stream",
          "name": "stdout",
          "text": [
            "Enter length:8\n",
            "Enter width:8\n",
            "Area of the rectangle is: 64.0\n"
          ]
        }
      ],
      "source": [
        "class Rectangle():\n",
        "  def area(length, width):\n",
        "    rec = length * width\n",
        "    return rec\n",
        "\n",
        "length = float(input(\"Enter length:\"))\n",
        "width = float(input(\"Enter width:\"))\n",
        "\n",
        "\n",
        "print(\"Area of the rectangle is:\", Rectangle.area(length, width))"
      ]
    }
  ]
}