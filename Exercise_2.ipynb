{
  "nbformat": 4,
  "nbformat_minor": 0,
  "metadata": {
    "colab": {
      "provenance": [],
      "authorship_tag": "ABX9TyPuaKgOqeGK3o0wHt7RRhYp",
      "include_colab_link": true
    },
    "kernelspec": {
      "name": "python3",
      "display_name": "Python 3"
    },
    "language_info": {
      "name": "python"
    }
  },
  "cells": [
    {
      "cell_type": "markdown",
      "metadata": {
        "id": "view-in-github",
        "colab_type": "text"
      },
      "source": [
        "<a href=\"https://colab.research.google.com/github/LeojTandayu/DSA-CPE-010-CPE21S4/blob/main/Exercise_2.ipynb\" target=\"_parent\"><img src=\"https://colab.research.google.com/assets/colab-badge.svg\" alt=\"Open In Colab\"/></a>"
      ]
    },
    {
      "cell_type": "markdown",
      "source": [
        "# **Exercise 2**"
      ],
      "metadata": {
        "id": "i9cCvyJ-5Ac1"
      }
    },
    {
      "cell_type": "code",
      "execution_count": 57,
      "metadata": {
        "colab": {
          "base_uri": "https://localhost:8080/"
        },
        "id": "q3SNd0ktwNa3",
        "outputId": "6d78c13c-e49c-4390-80aa-ef10bc97b903"
      },
      "outputs": [
        {
          "output_type": "stream",
          "name": "stdout",
          "text": [
            "Area of rectangle: 50\n",
            "Area of square: 25\n",
            "Area of triangle: 24.0\n"
          ]
        }
      ],
      "source": [
        "class Shapes():\n",
        "\n",
        "  def __init__(self,length,width,sides,base,height):\n",
        "    self.length=length\n",
        "    self.width=width\n",
        "    self.sides=sides\n",
        "    self.base=base\n",
        "    self.height=height\n",
        "\n",
        "  class Rectangle(Shapes):\n",
        "    def Area_Rectangle(self):\n",
        "      area_rect = self.length * self.width\n",
        "      return area_rect\n",
        "\n",
        "  class Square(Shapes):\n",
        "    def Area_Square(self):\n",
        "      area_sq = self.sides ** 2\n",
        "      return area_sq\n",
        "\n",
        "  class Triangle(Shapes):\n",
        "    def Area_Triangle(self):\n",
        "      area_tri = 0.5 * self.base * self.height\n",
        "      return area_tri\n",
        "\n",
        "\n",
        "\n",
        "\n",
        "\n",
        "rectangle = Shapes.Rectangle(10, 5, 0, 0, 0)\n",
        "square = Shapes.Square(0, 0, 5, 0, 0)\n",
        "triangle = Shapes.Triangle(0, 0, 0, 6, 8)\n",
        "\n",
        "\n",
        "print(\"Area of rectangle:\", rectangle.Area_Rectangle())\n",
        "print(\"Area of square:\", square.Area_Square())\n",
        "print(\"Area of triangle:\", triangle.Area_Triangle())"
      ]
    },
    {
      "cell_type": "markdown",
      "source": [],
      "metadata": {
        "id": "Gdf3Q6uK4_2t"
      }
    }
  ]
}